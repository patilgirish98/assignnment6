{
  "nbformat": 4,
  "nbformat_minor": 0,
  "metadata": {
    "colab": {
      "provenance": []
    },
    "kernelspec": {
      "name": "python3",
      "display_name": "Python 3"
    },
    "language_info": {
      "name": "python"
    }
  },
  "cells": [
    {
      "cell_type": "markdown",
      "source": [
        "# Files, exceptional handling, logging and memory management Questions :-"
      ],
      "metadata": {
        "id": "7qab2FPY081G"
      }
    },
    {
      "cell_type": "markdown",
      "source": [
        "1. What is the difference between interpreted and compiled language\n",
        "    - Compiled Languages :-\n",
        "       - Compilation: In compiled languages, the source code is translated (compiled) into machine code (binary code) by a compiler before it is executed. This compiled code is usually in the form of an executable file.\n",
        "       - Execution: The machine code or binary file is then run directly by the computer’s processor, which makes the execution faster.\n",
        "       - Example: C, C++, Rust\n",
        "\n",
        "    - Interpreted Languages :-\n",
        "      - Interpretation: In interpreted languages, the source code is read and executed line by line by an interpreter at runtime. The code is not compiled into machine code in advance.\n",
        "      - Execution: The interpreter translates the code into machine-readable instructions on the fly, which typically makes execution slower compared to compiled languages.\n",
        "      - Example: Python, JavaScript, Ruby\n",
        "\n",
        "2. What is exception handling in Python\n",
        "    - Exception handling in Python is a mechanism that allows you to handle errors or unexpected conditions that may arise during the execution of a program, without crashing the program.\n",
        "    - It enables you to gracefully manage errors, display meaningful error messages, or even recover from the error and continue execution.\n",
        "    - Types of Exceptions :-\n",
        "       - Python has many built-in exceptions (e.g., ZeroDivisionError, FileNotFoundError, ValueError), but you can also create your own custom exceptions.\n",
        "\n",
        "\n",
        "3. What is the purpose of the finally block in exception handling\n",
        "   - The finally block in exception handling serves the purpose of ensuring that a certain section of code is always executed, regardless of whether an exception was raised or not.\n",
        "   - It is typically used for cleanup operations, such as closing files, releasing resources, or performing other necessary actions that should happen no matter the outcome of the try block.\n",
        "   - Explanation:\n",
        "      - The try block attempts to open and read from the file.\n",
        "      - If the file is not found, the except block catches the FileNotFoundError\n",
        "      - Regardless of whether the file is successfully opened or an error occurred, the finally block ensures that the file.close() method is called (if the file was opened) to release the file resource properly\n",
        "\n",
        "\n",
        "4. What is logging in Python ?\n",
        "   - Logging in Python refers to the practice of recording events, errors, or other important information that happens while a program is running. This is crucial for debugging, tracking program behavior, and monitoring the health of an application in production environments.\n",
        "   - Python provides a built-in logging module that allows you to log messages at different severity levels, such as debug, info, warning, error, and critical.\n",
        "   - These logs can be written to various outputs, like the console, files, or remote servers, and can help you analyze and track the flow of your program.\n",
        "   - Why Use Logging :\n",
        "      - Debugging: Helps track the flow of the program and capture errors or unexpected behaviors\n",
        "      - Audit Trail: Keeps a history of events, which is useful for troubleshooting and analysis\n",
        "      - Monitoring: Essential for understanding how an application is running in production, tracking performance, and detecting issues early.\n",
        "\n",
        "5. What is the significance of the __del__ method in Python\n",
        "   - The __del__ method in Python is a destructor method that is automatically called when an object is about to be destroyed (i.e., when it is no longer referenced and is being garbage collected).\n",
        "   - It is mainly used for cleanup operations like closing file handles, releasing network connections, or deallocating memory.\n",
        "   -__del__ is useful for resource cleanup, but it should be used cautiously.\n",
        "   - It's better to use context managers (with statement) or explicit cleanup methods for managing resources.\n",
        "   - Relying on __del__ for essential cleanup can lead to unpredictable behavior due to Python’s garbage collection mechanism.\n",
        "\n",
        "\n",
        "6. What is the difference between import and from ... import in Python\n",
        "   - import Statement :-\n",
        "      - The import statement loads an entire module, and you must use the module name to access its functions, classes, or variables.\n",
        "      -Example:-\n",
        "\n",
        "             import math\n",
        "             print(math.sqrt(16))  # Output: 4.0\n",
        "\n",
        "    - from ... import Statement :-\n",
        "       - This allows you to import specific functions, classes, or variables from a module, so you don't have to use the module name when calling them.\n",
        "       - Example :-\n",
        "              \n",
        "             from math import sqrt\n",
        "             print(sqrt(16))  # Output: 4.0\n",
        "\n",
        "\n",
        "7. How can you handle multiple exceptions in Python ?\n",
        "    - In Python, you can handle multiple exceptions using multiple except blocks, tuple-based exception handling, or a generic except Exception block. Below are different ways to handle multiple exceptions effectively.\n",
        "       - Using Multiple except Blocks\n",
        "       - Using a Single except Block with a Tuple\n",
        "       - Catching All Exceptions with except Exception\n",
        "       - Using else with try-except\n",
        "       - Using finally for Cleanup\n",
        "    \n",
        "\n",
        "8. What is the purpose of the with statement when handling files in Python ?\n",
        "   - The with statement in Python is used for handling files efficiently by ensuring that resources, such as file handles, are properly closed automatically, even if an error occurs during file operations. It eliminates the need to explicitly close a file using file.close().\n",
        "   - Advantages of Using with for File Handling :-\n",
        "     - Automatic Resource Management - Ensures the file is closed, even in case of an error.\n",
        "     - Cleaner Syntax - No need to explicitly call file.close()\n",
        "     - Better Readability - Clearly indicates the scope of file usage\n",
        "\n",
        "\n",
        "9. What is the difference between multithreading and multiprocessing ?\n",
        "   - Multithreading :-\n",
        "      - Uses multiple threads within a single process.\n",
        "      - Threads share the same memory space (global variables, heap, etc.).\n",
        "      - Due to Python’s Global Interpreter Lock (GIL), threads cannot execute Python bytecode in parallel.\n",
        "      - Best suited for I/O-bound tasks (e.g., file operations, network requests).\n",
        "\n",
        "   - Multiprocessing :-\n",
        "      - Uses multiple processes, each with its own memory space.\n",
        "      - Each process runs independently, bypassing the Global Interpreter Lock (GIL)\n",
        "      - Best suited for CPU-bound tasks (e.g., complex computations, data processing).\n",
        "\n",
        "10. Best suited for CPU-bound tasks (e.g., complex computations, data processing).\n",
        "   - Yes! Multiprocessing is best suited for CPU-bound tasks, which involve intensive computations that require significant CPU power. These tasks can fully utilize multiple CPU cores because each process runs independently in its own memory space, bypassing Python’s Global Interpreter Lock (GIL).\n",
        "   - Examples of CPU-bound Tasks :-\n",
        "       1. Mathematical computations (e.g., prime number calculations, factorials)\n",
        "       2.Image processing\n",
        "       3.Video encoding\n",
        "       4.Machine learning model training\n",
        "       5.Crypt Zography and encryption\n",
        "\n",
        "\n",
        "11. What is memory management in Python ?\n",
        "   - Memory management in Python is the process of allocating, using, and releasing memory efficiently to ensure smooth program execution\n",
        "   - Python handles memory automatically through dynamic memory allocation, garbage collection, and reference counting, making it easier for developers compared to low-level languages like C or C++.\n",
        "   - Feature :-\n",
        "       - Memory Allocation\n",
        "\n",
        "       - Reference Counting\n",
        "\n",
        "       - Garbage Collection\n",
        "\n",
        "       - Optimization\n",
        "\n",
        "\n",
        "12. What are the basic steps involved in exception handling in Python ?\n",
        "   - Identify Code That May Cause an Exception (try block)\n",
        "   - Handle the Exception (except block)\n",
        "   - Handle Multiple Exceptions (Optional)\n",
        "   - Execute Code When No Exception Occurs (else block - Optional)\n",
        "   - Ensure Cleanup Actions (finally block - Optional)\n",
        "   - Example: Full Exception Handling Structure\n",
        "        \n",
        "          try:\n",
        "             num = int(input(\"Enter a number: \"))\n",
        "             result = 10 / num\n",
        "          except ValueError:\n",
        "              print(\"Error: Invalid input! Please enter a number.\")\n",
        "          except ZeroDivisionError:\n",
        "              print(\"Error: Cannot divide by zero.\")\n",
        "          else:\n",
        "              print(f\"Success! The result is {result}.\")\n",
        "          finally:\n",
        "              print(\"Execution completed.\")\n",
        "\n",
        "\n",
        "  13. Why is memory management important in Python ?\n",
        "     - Memory management in Python is crucial because it ensures efficient use of system resources, prevents memory leaks, and improves program performance.\n",
        "     - Python provides automatic memory management, but understanding how it works helps in writing optimized and scalable applications.\n",
        "          \n",
        "           1. Prevents Memory Leaks\n",
        "           2. Improves Performance and Efficiency\n",
        "           3. Manages Dynamic Memory Allocation\n",
        "           4. Helps in Large-Scale Applications\n",
        "           5. Prevents Crashes Due to Excessive Memory Usage\n",
        "\n",
        "\n",
        "\n",
        "  14. What is the role of try and except in exception handling ?\n",
        "      - In Python, try and except are used for handling exceptions (runtime errors), preventing program crashes, and ensuring smooth execution.\n",
        "      - The try Block:-\n",
        "         - The try block is used to enclose code that may potentially raise an exception. This could include operations such as dividing by zero, reading from a file that doesn’t exist, or attempting to access a variable that hasn't been defined. If any error occurs inside the try block, the program will immediately stop executing the rest of the try block and look for the corresponding except block to handle the exception.\n",
        "\n",
        "      - The except Block:-\n",
        "         - The except block is used to define how to handle specific exceptions that might occur in the try block. It allows the programmer to define alternate behavior when an error occurs, such as printing a message, logging the error, or attempting to recover from it.\n",
        "\n",
        "      - The finally Block :-\n",
        "          - The finally block is optional and is executed no matter what, whether an exception was raised or not. This block is typically used for cleaning up resources, such as closing files or releasing database connections.\n",
        "\n",
        "\n",
        "\n",
        "\n",
        "  15. How does Python's garbage collection system work ?\n",
        "     - Python’s garbage collection (GC) system is responsible for automatically managing memory by reclaiming memory that is no longer in use, preventing memory leaks and improving program efficiency.\n",
        "     - It handles the allocation and deallocation of memory for objects, ensuring that Python applications do not consume excessive memory or crash due to unhandled memory usage.\n",
        "     - Python's garbage collection system works in the background, using a combination of reference counting and cycle detection to manage memory.\n",
        "     -Why Garbage Collection is Important:-\n",
        "        - Automatic Memory Management: Python handles memory allocation and deallocation automatically, reducing the need for manual memory management.\n",
        "        - Prevents Memory Leaks: Objects that are no longer needed are automatically cleaned up, preventing memory leaks.\n",
        "        - Improves Efficiency: With generational GC, Python can perform garbage collection efficiently, ensuring minimal performance overhead.\n",
        "        - Circular Reference Handling: The garbage collection system detects and removes circular references, something that reference counting alone cannot handle.\n",
        "\n",
        "\n",
        "\n",
        "\n",
        "\n",
        "  16. What is the purpose of the else block in exception handling ?\n",
        "       - In Python, the else block in exception handling is used to execute code that should run only if no exceptions are raised in the try block. This helps separate normal execution logic from error-handling logic, making the code cleaner and more readable.\n",
        "       - Purpose:-\n",
        "           - Separates successful execution from exception handling - Code inside else runs only if the try block completes without errors.\n",
        "           - Avoids accidental execution of code inside except - Keeps normal logic separate from error-handling logic.\n",
        "           - Improves readability and maintainability - Makes it clear which part of the code should only run in a successful scenario.\n",
        "       - Example :-\n",
        "\n",
        "               try:\n",
        "                 num = int(input(\"Enter a number: \"))\n",
        "               except ValueError:\n",
        "                 print(\"Invalid input! Please enter a valid number.\")\n",
        "               else:\n",
        "                  print(f\"You entered: {num}\")  # Runs only if no exception occurs\n",
        "\n",
        "\n",
        "\n",
        "\n",
        "17.  What are the common logging levels in Python ?\n",
        "    - In Python, the logging module provides several logging levels to categorize log messages by severity. Here are the common logging levels, from the lowest to the highest severity:\n",
        "    - DEBUG -\t10 -\tDetailed information for diagnosing problems. Used mainly during development.\n",
        "    - INFO - 20 -\tGeneral events confirming that things are working as expected\n",
        "    - WARNING -\t30 -\tIndicates a potential issue that may not cause an error but should be looked into.\n",
        "    - ERROR -\t40 -\tA more serious problem that has caused an operation to fail.\n",
        "    - CRITICAL - 50\t- A severe error indicating that the program itself may be unable to continue running.\n",
        "\n",
        "\n",
        "\n",
        "\n",
        "\n",
        "  18. What is the difference between os.fork() and multiprocessing in Python\n",
        "      - os.fork()\n",
        "         - Calls the fork() system call (available only on Unix-like systems).\n",
        "         - Creates a new child process as an exact copy of the parent process.\n",
        "         - Both parent and child continue executing from the same point.\n",
        "         - Returns 0 in the child process.\n",
        "         - Returns the child’s process ID (PID) in the parent process.\n",
        "\n",
        "      - multiprocessing Module\n",
        "        - Provides a higher-level interface for spawning processes.\n",
        "        - Uses fork() on Unix and spawn() on Windows (ensuring cross-platform compatibility).\n",
        "        - Each process gets its own memory space (safer than fork()).\n",
        "\n",
        "\n",
        "\n",
        "19. What is the importance of closing a file in Python ?\n",
        "   - Closing a file in Python is important because it:\n",
        "       1. Frees system resources - Prevents excessive memory and file descriptor usage.\n",
        "       2. Ensures data integrity - Flushes buffered data to avoid data loss\n",
        "       3. Prevents file access issues - Avoids file locks and access conflicts.\n",
        "       4. Prevents memory leaks - Reduces the risk of running out of open file slots.\n",
        "\n",
        "\n",
        "\n",
        "  20. What is the difference between file.read() and file.readline() in Python ?\n",
        "      - The difference between file.read() and file.readline() in Python lies in how they read data from a file:\n",
        "      1. file.read([size])\n",
        "          - Reads the entire file if no size is given\n",
        "          - If size is specified, reads up to size characters.\n",
        "          - Reading full content at once\n",
        "          - Use file.read() when you need the entire file content.\n",
        "\n",
        "      2. file.readline()\n",
        "          - Reads one line at a time\n",
        "          - Useful for processing large files line by line without loading the entire file into memory.\n",
        "\n",
        "\n",
        "21. What is the logging module in Python used for ?\n",
        "    - The logging module in Python is used for recording and managing log messages in applications. It helps with debugging, monitoring, and tracking events during program execution.\n",
        "       - Debugging & Error Tracking - Logs errors, warnings, and debug messages.\n",
        "       - Monitoring Applications - Helps track system behavior in production\n",
        "       - Event Logging - Stores logs in files for future analysis\n",
        "       - Better than print() - Provides log levels, timestamps, and formatting.\n",
        "\n",
        "\n",
        "\n",
        "22. Better than print() – Provides log levels, timestamps, and formatting ?\n",
        "    - Yes! The logging module is better than print() because it provides:\n",
        "        - Log Levels - Categorizes messages (DEBUG, INFO, WARNING, ERROR, CRITICAL).\n",
        "        - Timestamps - Automatically adds time to each log entry for tracking.\n",
        "        - Formatting - Customizes log messages with file name, function name, and more\n",
        "        -  File Logging - Saves logs to a file for debugging later.\n",
        "        - Configurability - Allows different output formats, handlers, and filters.\n",
        "\n",
        "\n",
        "\n",
        "  \n",
        "23. What are the challenges associated with memory management in Python ?\n",
        "     - Memory management in Python is largely automated thanks to garbage collection (GC) and reference counting, but there are still several challenges\n",
        "     - Here are the main challenges with memory management in Python:\n",
        "         - Memory Leaks - Caused by circular references or unclosed resources\n",
        "         - High Memory Usage - Large objects (e.g., big lists) consume too much memory.\n",
        "         - Fragmentation - Inefficient memory reuse due to frequent allocation/deallocation\n",
        "         - Global Interpreter Lock (GIL) - Limits true parallel execution in multi-threading\n",
        "         - Inefficient Data Structures - Using memory-heavy data types like lists instead of tuples or arrays.\n",
        "         - Delayed Garbage Collection - Garbage collection might not immediately free memory.\n",
        "\n",
        "\n",
        "\n",
        "24. How do you raise an exception manually in Python ?\n",
        "     - You can raise an exception manually in Python using the raise keyword:\n",
        "        - raise Exception(\"Error message\")\n",
        "     - Example :\n",
        "\n",
        "            x = -1\n",
        "            if x < 0:\n",
        "              raise ValueError(\"Negative value is not allowed\")\n",
        "\n",
        "\n",
        "\n",
        "25. Why is it important to use multithreading in certain applications ?\n",
        "     - Improved performance for I/O-bound tasks (e.g., file reading, network requests).\n",
        "     - Keeps GUIs responsive by running background tasks without freezing the interface.\n",
        "     - Resource sharing between threads within the same process.\n",
        "     - Better CPU utilization on multi-core systems (especially for I/O tasks).\n",
        "     - Asynchronous execution lets tasks run without blocking the main program.\n",
        "\n",
        "\n",
        "\n",
        "\n",
        "\n",
        "        \n",
        "\n",
        "  \n",
        "\n",
        "\n",
        "\n",
        "\n",
        "\n",
        "\n",
        "\n",
        "\n",
        "\n",
        "\n",
        "\n"
      ],
      "metadata": {
        "id": "y8Ma_OT_1emf"
      }
    },
    {
      "cell_type": "code",
      "source": [
        "# How can you open a file for writing in Python and write a string to it\n",
        "\n",
        "with open(\"example.txt\", \"w\") as file:\n",
        "    file.write(\"Hello, World!\")"
      ],
      "metadata": {
        "id": "jaPuhidugRzD"
      },
      "execution_count": 33,
      "outputs": []
    },
    {
      "cell_type": "code",
      "source": [
        "# Write a Python program to read the contents of a file and print each line\n",
        "\n",
        "with open(\"example.txt\", \"r\") as file:\n",
        "    for line in file:\n",
        "        print(line, end=\"\")"
      ],
      "metadata": {
        "colab": {
          "base_uri": "https://localhost:8080/"
        },
        "id": "XpWM-mwkgyC7",
        "outputId": "987734a7-ce60-4594-94db-9e68759d138a"
      },
      "execution_count": 4,
      "outputs": [
        {
          "output_type": "stream",
          "name": "stdout",
          "text": [
            "Hello, World!"
          ]
        }
      ]
    },
    {
      "cell_type": "code",
      "source": [
        "#  How would you handle a case where the file doesn't exist while trying to open it for reading\n",
        "\n",
        "try:\n",
        "    with open(\"example.txt\", \"r\") as file:\n",
        "        for line in file:\n",
        "            print(line, end=\"\")\n",
        "except FileNotFoundError:\n",
        "    print(\"The file does not exist.\")"
      ],
      "metadata": {
        "colab": {
          "base_uri": "https://localhost:8080/"
        },
        "id": "U7ekYOkehHe3",
        "outputId": "4c544184-e012-4d94-fbb8-0c2d8bfe5b4c"
      },
      "execution_count": 6,
      "outputs": [
        {
          "output_type": "stream",
          "name": "stdout",
          "text": [
            "Hello, World!"
          ]
        }
      ]
    },
    {
      "cell_type": "code",
      "source": [
        "# Write a Python script that reads from one file and writes its content to another file\n",
        "\n",
        "source_file = 'source.txt'\n",
        "destination_file = 'destination.txt'\n",
        "\n",
        "with open(source_file, 'r') as src:\n",
        "    content = src.read()\n",
        "\n",
        "with open(destination_file, 'w') as dest:\n",
        "    dest.write(content)\n",
        "\n",
        "print(f\"Content from {source_file} has been copied to {destination_file}.\")"
      ],
      "metadata": {
        "id": "ojcx1v_6idd8"
      },
      "execution_count": null,
      "outputs": []
    },
    {
      "cell_type": "code",
      "source": [
        "# How would you catch and handle division by zero error in Python\n",
        "\n",
        "try:\n",
        "    result = 10 / 0\n",
        "except ZeroDivisionError:\n",
        "    print(\"Error: Cannot divide by zero.\")\n",
        "else:\n",
        "    print(f\"The result is {result}\")"
      ],
      "metadata": {
        "colab": {
          "base_uri": "https://localhost:8080/"
        },
        "id": "hpBgfl3Simg1",
        "outputId": "5d9b19ff-c121-449f-b0a9-d86358d326e5"
      },
      "execution_count": 13,
      "outputs": [
        {
          "output_type": "stream",
          "name": "stdout",
          "text": [
            "Error: Cannot divide by zero.\n"
          ]
        }
      ]
    },
    {
      "cell_type": "code",
      "source": [
        "#  Write a Python program that logs an error message to a log file when a division by zero exception occurs\n",
        "\n",
        "import logging\n",
        "\n",
        "logging.basicConfig(filename='error_log.txt', level=logging.ERROR, format='%(asctime)s - %(levelname)s - %(message)s')\n",
        "\n",
        "def divide(a, b):\n",
        "    try:\n",
        "        result = a / b\n",
        "        return result\n",
        "    except ZeroDivisionError as e:\n",
        "        logging.error(f\"Attempted to divide by zero: {e}\")\n",
        "        print(\"Error: Cannot divide by zero.\")\n",
        "\n",
        "divide(10, 0)"
      ],
      "metadata": {
        "colab": {
          "base_uri": "https://localhost:8080/"
        },
        "id": "35XzT5TljMDs",
        "outputId": "547188a2-8479-4b44-8f3a-741954e4bdbe"
      },
      "execution_count": 14,
      "outputs": [
        {
          "output_type": "stream",
          "name": "stderr",
          "text": [
            "ERROR:root:Attempted to divide by zero: division by zero\n"
          ]
        },
        {
          "output_type": "stream",
          "name": "stdout",
          "text": [
            "Error: Cannot divide by zero.\n"
          ]
        }
      ]
    },
    {
      "cell_type": "code",
      "source": [
        "# How do you log information at different levels (INFO, ERROR, WARNING) in Python using the logging module\n",
        "\n",
        "import logging\n",
        "\n",
        "logging.basicConfig(filename='app.log', level=logging.DEBUG, format='%(asctime)s - %(levelname)s - %(message)s')\n",
        "\n",
        "logging.debug(\"This is a debug message.\")\n",
        "logging.info(\"This is an info message.\")\n",
        "logging.warning(\"This is a warning message.\")\n",
        "logging.error(\"This is an error message.\")\n",
        "logging.critical(\"This is a critical error message.\")\n"
      ],
      "metadata": {
        "colab": {
          "base_uri": "https://localhost:8080/"
        },
        "id": "V9QZYjGhjiZT",
        "outputId": "c6c99ff8-6299-4725-d49f-5831c356b100"
      },
      "execution_count": 15,
      "outputs": [
        {
          "output_type": "stream",
          "name": "stderr",
          "text": [
            "WARNING:root:This is a warning message.\n",
            "ERROR:root:This is an error message.\n",
            "CRITICAL:root:This is a critical error message.\n"
          ]
        }
      ]
    },
    {
      "cell_type": "code",
      "source": [
        "# Write a program to handle a file opening error using exception handling\n",
        "\n",
        "try:\n",
        "    with open('non_existent_file.txt', 'r') as file:\n",
        "        content = file.read()\n",
        "        print(content)\n",
        "except FileNotFoundError:\n",
        "    print(\"Error: The file does not exist.\")\n",
        "except Exception as e:\n",
        "    print(f\"An unexpected error occurred: {e}\")"
      ],
      "metadata": {
        "colab": {
          "base_uri": "https://localhost:8080/"
        },
        "id": "vlcI6Xb0j2eJ",
        "outputId": "4b30dea3-a138-4e97-f3a0-d93873ce1b4c"
      },
      "execution_count": 16,
      "outputs": [
        {
          "output_type": "stream",
          "name": "stdout",
          "text": [
            "Error: The file does not exist.\n"
          ]
        }
      ]
    },
    {
      "cell_type": "code",
      "source": [
        "#  How can you read a file line by line and store its content in a list in Python\n",
        "\n",
        "\n",
        "with open('sample.txt', 'r') as file:\n",
        "\n",
        "    lines = file.readlines()\n",
        "\n",
        "print(lines)"
      ],
      "metadata": {
        "colab": {
          "base_uri": "https://localhost:8080/",
          "height": 219
        },
        "id": "vg1NtiZYkHXW",
        "outputId": "91913cab-b5d3-4ad3-de50-ff586a67ba8b"
      },
      "execution_count": 18,
      "outputs": [
        {
          "output_type": "error",
          "ename": "FileNotFoundError",
          "evalue": "[Errno 2] No such file or directory: 'sample.txt'",
          "traceback": [
            "\u001b[0;31m---------------------------------------------------------------------------\u001b[0m",
            "\u001b[0;31mFileNotFoundError\u001b[0m                         Traceback (most recent call last)",
            "\u001b[0;32m<ipython-input-18-c38e037df494>\u001b[0m in \u001b[0;36m<cell line: 0>\u001b[0;34m()\u001b[0m\n\u001b[1;32m      2\u001b[0m \u001b[0;34m\u001b[0m\u001b[0m\n\u001b[1;32m      3\u001b[0m \u001b[0;31m# Open the file in read mode\u001b[0m\u001b[0;34m\u001b[0m\u001b[0;34m\u001b[0m\u001b[0m\n\u001b[0;32m----> 4\u001b[0;31m \u001b[0;32mwith\u001b[0m \u001b[0mopen\u001b[0m\u001b[0;34m(\u001b[0m\u001b[0;34m'sample.txt'\u001b[0m\u001b[0;34m,\u001b[0m \u001b[0;34m'r'\u001b[0m\u001b[0;34m)\u001b[0m \u001b[0;32mas\u001b[0m \u001b[0mfile\u001b[0m\u001b[0;34m:\u001b[0m\u001b[0;34m\u001b[0m\u001b[0;34m\u001b[0m\u001b[0m\n\u001b[0m\u001b[1;32m      5\u001b[0m     \u001b[0;31m# Read all lines and store them in a list\u001b[0m\u001b[0;34m\u001b[0m\u001b[0;34m\u001b[0m\u001b[0m\n\u001b[1;32m      6\u001b[0m     \u001b[0mlines\u001b[0m \u001b[0;34m=\u001b[0m \u001b[0mfile\u001b[0m\u001b[0;34m.\u001b[0m\u001b[0mreadlines\u001b[0m\u001b[0;34m(\u001b[0m\u001b[0;34m)\u001b[0m\u001b[0;34m\u001b[0m\u001b[0;34m\u001b[0m\u001b[0m\n",
            "\u001b[0;31mFileNotFoundError\u001b[0m: [Errno 2] No such file or directory: 'sample.txt'"
          ]
        }
      ]
    },
    {
      "cell_type": "code",
      "source": [
        "# How can you append data to an existing file in Python\n",
        "\n",
        "data = \"This is a new line of text.\"\n",
        "\n",
        "with open('example.txt', 'a') as file:\n",
        "    file.write(data + \"\\n\")\n",
        "print(\"Data has been appended to the file.\")"
      ],
      "metadata": {
        "colab": {
          "base_uri": "https://localhost:8080/"
        },
        "id": "m3EVzimmkd4v",
        "outputId": "a90575c5-e8c7-4d46-c65c-d91b1c4b94d2"
      },
      "execution_count": 19,
      "outputs": [
        {
          "output_type": "stream",
          "name": "stdout",
          "text": [
            "Data has been appended to the file.\n"
          ]
        }
      ]
    },
    {
      "cell_type": "code",
      "source": [
        "#  Write a Python program that uses a try-except block to handle an error when attempting to access a dictionary key that doesn't exist\n",
        "\n",
        "my_dict = {'name': 'John', 'age': 30, 'city': 'New York'}\n",
        "\n",
        "key_to_access = 'country'\n",
        "\n",
        "try:\n",
        "    value = my_dict[key_to_access]\n",
        "    print(f\"The value for '{key_to_access}' is: {value}\")\n",
        "except KeyError:\n",
        "    print(f\"Error: The key '{key_to_access}' does not exist in the dictionary.\")"
      ],
      "metadata": {
        "colab": {
          "base_uri": "https://localhost:8080/"
        },
        "id": "cptEbDEOktcV",
        "outputId": "aa2b0e6e-f909-4c66-adad-8de0e5806c65"
      },
      "execution_count": 20,
      "outputs": [
        {
          "output_type": "stream",
          "name": "stdout",
          "text": [
            "Error: The key 'country' does not exist in the dictionary.\n"
          ]
        }
      ]
    },
    {
      "cell_type": "code",
      "source": [
        "# Write a program that demonstrates using multiple except blocks to handle different types of exceptions\n",
        "\n",
        "def handle_exceptions():\n",
        "    try:\n",
        "        choice = int(input(\"Enter a number (or 0 to cause ZeroDivisionError): \"))\n",
        "\n",
        "        result = 10 / choice\n",
        "\n",
        "        my_list = [1, 2, 3]\n",
        "        print(my_list[choice])\n",
        "\n",
        "        value = int(input(\"Enter a string to cause ValueError: \"))\n",
        "\n",
        "    except ZeroDivisionError:\n",
        "        print(\"Error: You cannot divide by zero.\")\n",
        "\n",
        "    except IndexError:\n",
        "        print(\"Error: Index is out of range.\")\n",
        "\n",
        "    except ValueError:\n",
        "        print(\"Error: Invalid input, not a number.\")\n",
        "\n",
        "    except Exception as e:\n",
        "        print(f\"An unexpected error occurred: {e}\")\n",
        "\n",
        "handle_exceptions()"
      ],
      "metadata": {
        "colab": {
          "base_uri": "https://localhost:8080/"
        },
        "id": "tTvuO2Jmk_fJ",
        "outputId": "2ec7a688-3fbd-4d05-9a71-a0d78fb704a4"
      },
      "execution_count": 21,
      "outputs": [
        {
          "output_type": "stream",
          "name": "stdout",
          "text": [
            "Enter a number (or 0 to cause ZeroDivisionError): 45\n",
            "Error: Index is out of range.\n"
          ]
        }
      ]
    },
    {
      "cell_type": "code",
      "source": [
        "#  How would you check if a file exists before attempting to read it in Python\n",
        "\n",
        "import os\n",
        "\n",
        "file_path = 'example.txt'\n",
        "\n",
        "if os.path.exists(file_path):\n",
        "    with open(file_path, 'r') as file:\n",
        "        content = file.read()\n",
        "        print(content)\n",
        "else:\n",
        "    print(f\"Error: The file '{file_path}' does not exist.\")\n"
      ],
      "metadata": {
        "colab": {
          "base_uri": "https://localhost:8080/"
        },
        "id": "xg-yrMs6mKOg",
        "outputId": "4129c146-a8fe-4b2a-be5d-35a0c771a83c"
      },
      "execution_count": 22,
      "outputs": [
        {
          "output_type": "stream",
          "name": "stdout",
          "text": [
            "Hello, World!This is a new line of text.\n",
            "\n"
          ]
        }
      ]
    },
    {
      "cell_type": "code",
      "source": [
        "#  Write a Python program that prints the content of a file and handles the case when the file is empty\n",
        "\n",
        "def read_file(file_path):\n",
        "    try:\n",
        "        with open(file_path, 'r') as file:\n",
        "            content = file.read()\n",
        "            if content:\n",
        "                print(\"File content:\")\n",
        "                print(content)\n",
        "            else:\n",
        "                print(\"The file is empty.\")\n",
        "    except FileNotFoundError:\n",
        "        print(f\"Error: The file '{file_path}' does not exist.\")\n",
        "    except Exception as e:\n",
        "        print(f\"An unexpected error occurred: {e}\")\n",
        "\n",
        "file_path = 'example.txt'\n",
        "read_file(file_path)\n"
      ],
      "metadata": {
        "colab": {
          "base_uri": "https://localhost:8080/"
        },
        "id": "Kxmy-GQZmkk2",
        "outputId": "46e924e3-1af3-4eeb-d6ae-e945a9f48da8"
      },
      "execution_count": 24,
      "outputs": [
        {
          "output_type": "stream",
          "name": "stdout",
          "text": [
            "File content:\n",
            "Hello, World!This is a new line of text.\n",
            "\n"
          ]
        }
      ]
    },
    {
      "cell_type": "code",
      "source": [
        "# Demonstrate how to use memory profiling to check the memory usage of a small program\n",
        "\n",
        "from memory_profiler import profile\n",
        "\n",
        "@profile\n",
        "def create_large_list():\n",
        "    my_list = []\n",
        "    for i in range(1000000):\n",
        "        my_list.append(i)\n",
        "    return my_list\n",
        "\n",
        "if __name__ == '__main__':\n",
        "    create_large_list()\n"
      ],
      "metadata": {
        "colab": {
          "base_uri": "https://localhost:8080/",
          "height": 400
        },
        "id": "GSxBmnYQmuI8",
        "outputId": "bb5ce60a-f80a-4ca8-b3ed-17783db0234e"
      },
      "execution_count": 32,
      "outputs": [
        {
          "output_type": "error",
          "ename": "ModuleNotFoundError",
          "evalue": "No module named 'memory_profiler'",
          "traceback": [
            "\u001b[0;31m---------------------------------------------------------------------------\u001b[0m",
            "\u001b[0;31mModuleNotFoundError\u001b[0m                       Traceback (most recent call last)",
            "\u001b[0;32m<ipython-input-32-b460f5aa979e>\u001b[0m in \u001b[0;36m<cell line: 0>\u001b[0;34m()\u001b[0m\n\u001b[1;32m      1\u001b[0m \u001b[0;31m# Demonstrate how to use memory profiling to check the memory usage of a small program\u001b[0m\u001b[0;34m\u001b[0m\u001b[0;34m\u001b[0m\u001b[0m\n\u001b[1;32m      2\u001b[0m \u001b[0;34m\u001b[0m\u001b[0m\n\u001b[0;32m----> 3\u001b[0;31m \u001b[0;32mfrom\u001b[0m \u001b[0mmemory_profiler\u001b[0m \u001b[0;32mimport\u001b[0m \u001b[0mprofile\u001b[0m\u001b[0;34m\u001b[0m\u001b[0;34m\u001b[0m\u001b[0m\n\u001b[0m\u001b[1;32m      4\u001b[0m \u001b[0;34m\u001b[0m\u001b[0m\n\u001b[1;32m      5\u001b[0m \u001b[0;34m@\u001b[0m\u001b[0mprofile\u001b[0m\u001b[0;34m\u001b[0m\u001b[0;34m\u001b[0m\u001b[0m\n",
            "\u001b[0;31mModuleNotFoundError\u001b[0m: No module named 'memory_profiler'",
            "",
            "\u001b[0;31m---------------------------------------------------------------------------\u001b[0;32m\nNOTE: If your import is failing due to a missing package, you can\nmanually install dependencies using either !pip or !apt.\n\nTo view examples of installing some common dependencies, click the\n\"Open Examples\" button below.\n\u001b[0;31m---------------------------------------------------------------------------\u001b[0m\n"
          ],
          "errorDetails": {
            "actions": [
              {
                "action": "open_url",
                "actionText": "Open Examples",
                "url": "/notebooks/snippets/importing_libraries.ipynb"
              }
            ]
          }
        }
      ]
    },
    {
      "cell_type": "code",
      "source": [
        "# Write a Python program to create and write a list of numbers to a file, one number per line\n",
        "\n",
        "numbers = [1, 2, 3, 4, 5, 6, 7, 8, 9, 10]\n",
        "\n",
        "with open('numbers.txt', 'w') as file:\n",
        "    for number in numbers:\n",
        "        file.write(f\"{number}\\n\")\n",
        "\n",
        "print(\"Numbers have been written to 'numbers.txt'.\")\n"
      ],
      "metadata": {
        "colab": {
          "base_uri": "https://localhost:8080/"
        },
        "id": "8rx_4ymOm5CE",
        "outputId": "1cc84f29-f8b0-45e3-9f7c-3cd1df7ea569"
      },
      "execution_count": 25,
      "outputs": [
        {
          "output_type": "stream",
          "name": "stdout",
          "text": [
            "Numbers have been written to 'numbers.txt'.\n"
          ]
        }
      ]
    },
    {
      "cell_type": "code",
      "source": [
        "#  How would you implement a basic logging setup that logs to a file with rotation after 1MB\n",
        "\n",
        "import logging\n",
        "from logging.handlers import RotatingFileHandler\n",
        "\n",
        "log_file = 'app.log'\n",
        "max_log_size = 1 * 1024 * 1024\n",
        "backup_count = 3\n",
        "\n",
        "handler = RotatingFileHandler(log_file, maxBytes=max_log_size, backupCount=backup_count)\n",
        "\n",
        "logger = logging.getLogger()\n",
        "logger.setLevel(logging.DEBUG)\n",
        "\n",
        "formatter = logging.Formatter('%(asctime)s - %(levelname)s - %(message)s')\n",
        "handler.setFormatter(formatter)\n",
        "\n",
        "logger.addHandler(handler)\n",
        "\n",
        "logger.debug(\"This is a debug message.\")\n",
        "logger.info(\"This is an informational message.\")\n",
        "logger.warning(\"This is a warning message.\")\n",
        "logger.error(\"This is an error message.\")\n",
        "logger.critical(\"This is a critical message.\")\n",
        "\n",
        "print(\"Log messages have been written to 'app.log' with rotation after 1MB.\")\n"
      ],
      "metadata": {
        "colab": {
          "base_uri": "https://localhost:8080/"
        },
        "id": "ppyfK-dSnHie",
        "outputId": "2e0ad31f-684d-4c27-d1d8-1c135d373a30"
      },
      "execution_count": 26,
      "outputs": [
        {
          "output_type": "stream",
          "name": "stderr",
          "text": [
            "DEBUG:root:This is a debug message.\n",
            "INFO:root:This is an informational message.\n",
            "WARNING:root:This is a warning message.\n",
            "ERROR:root:This is an error message.\n",
            "CRITICAL:root:This is a critical message.\n"
          ]
        },
        {
          "output_type": "stream",
          "name": "stdout",
          "text": [
            "Log messages have been written to 'app.log' with rotation after 1MB.\n"
          ]
        }
      ]
    },
    {
      "cell_type": "code",
      "source": [
        "#  Write a program that handles both IndexError and KeyError using a try-except block\n",
        "\n",
        "def handle_exceptions():\n",
        "    my_list = [1, 2, 3]\n",
        "    my_dict = {'name': 'John', 'age': 30}\n",
        "\n",
        "    try:\n",
        "        print(my_list[5])\n",
        "        print(my_dict['city'])\n",
        "\n",
        "    except IndexError:\n",
        "        print(\"Error: List index is out of range.\")\n",
        "    except KeyError:\n",
        "        print(\"Error: Key does not exist in the dictionary.\")\n",
        "    except Exception as e:\n",
        "        print(f\"An unexpected error occurred: {e}\")\n",
        "\n",
        "handle_exceptions()\n"
      ],
      "metadata": {
        "colab": {
          "base_uri": "https://localhost:8080/"
        },
        "id": "9xdCBuU1ndSL",
        "outputId": "ee45706e-7444-4903-b1d2-7f8716328107"
      },
      "execution_count": 27,
      "outputs": [
        {
          "output_type": "stream",
          "name": "stdout",
          "text": [
            "Error: List index is out of range.\n"
          ]
        }
      ]
    },
    {
      "cell_type": "code",
      "source": [
        "#  How would you open a file and read its contents using a context manager in Python\n",
        "\n",
        "with open('file.txt', 'r') as file:\n",
        "    contents = file.read()\n",
        "    print(contents)"
      ],
      "metadata": {
        "colab": {
          "base_uri": "https://localhost:8080/",
          "height": 219
        },
        "id": "6sQDsYtynq6C",
        "outputId": "2d401197-b5a7-40ae-dc33-937fff6cb740"
      },
      "execution_count": 28,
      "outputs": [
        {
          "output_type": "error",
          "ename": "FileNotFoundError",
          "evalue": "[Errno 2] No such file or directory: 'file.txt'",
          "traceback": [
            "\u001b[0;31m---------------------------------------------------------------------------\u001b[0m",
            "\u001b[0;31mFileNotFoundError\u001b[0m                         Traceback (most recent call last)",
            "\u001b[0;32m<ipython-input-28-b54c27fcf967>\u001b[0m in \u001b[0;36m<cell line: 0>\u001b[0;34m()\u001b[0m\n\u001b[1;32m      1\u001b[0m \u001b[0;31m#  How would you open a file and read its contents using a context manager in Python\u001b[0m\u001b[0;34m\u001b[0m\u001b[0;34m\u001b[0m\u001b[0m\n\u001b[1;32m      2\u001b[0m \u001b[0;34m\u001b[0m\u001b[0m\n\u001b[0;32m----> 3\u001b[0;31m \u001b[0;32mwith\u001b[0m \u001b[0mopen\u001b[0m\u001b[0;34m(\u001b[0m\u001b[0;34m'file.txt'\u001b[0m\u001b[0;34m,\u001b[0m \u001b[0;34m'r'\u001b[0m\u001b[0;34m)\u001b[0m \u001b[0;32mas\u001b[0m \u001b[0mfile\u001b[0m\u001b[0;34m:\u001b[0m\u001b[0;34m\u001b[0m\u001b[0;34m\u001b[0m\u001b[0m\n\u001b[0m\u001b[1;32m      4\u001b[0m     \u001b[0mcontents\u001b[0m \u001b[0;34m=\u001b[0m \u001b[0mfile\u001b[0m\u001b[0;34m.\u001b[0m\u001b[0mread\u001b[0m\u001b[0;34m(\u001b[0m\u001b[0;34m)\u001b[0m\u001b[0;34m\u001b[0m\u001b[0;34m\u001b[0m\u001b[0m\n\u001b[1;32m      5\u001b[0m     \u001b[0mprint\u001b[0m\u001b[0;34m(\u001b[0m\u001b[0mcontents\u001b[0m\u001b[0;34m)\u001b[0m\u001b[0;34m\u001b[0m\u001b[0;34m\u001b[0m\u001b[0m\n",
            "\u001b[0;31mFileNotFoundError\u001b[0m: [Errno 2] No such file or directory: 'file.txt'"
          ]
        }
      ]
    },
    {
      "cell_type": "code",
      "source": [
        "#  Write a Python program that reads a file and prints the number of occurrences of a specific word\n",
        "\n",
        "def count_word_in_file(file_path, word):\n",
        "    word_count = 0\n",
        "    with open(file_path, 'r') as file:\n",
        "        for line in file:\n",
        "            word_count += line.lower().split().count(word.lower())\n",
        "    return word_count\n",
        "\n",
        "file_path = 'file.txt'\n",
        "word = 'yourword'\n",
        "count = count_word_in_file(file_path, word)\n",
        "print(f\"The word '{word}' occurs {count} times in the file.\")\n"
      ],
      "metadata": {
        "id": "AuEzvAWmoGYz"
      },
      "execution_count": null,
      "outputs": []
    },
    {
      "cell_type": "code",
      "source": [
        "# How can you check if a file is empty before attempting to read its contents\n",
        "\n",
        "import os\n",
        "\n",
        "def is_file_empty(file_path):\n",
        "    return os.path.getsize(file_path) == 0\n",
        "\n",
        "# Example usage\n",
        "file_path = 'file.txt'  # Replace with your file path\n",
        "\n",
        "if is_file_empty(file_path):\n",
        "    print(\"The file is empty.\")\n",
        "else:\n",
        "    with open(file_path, 'r') as file:\n",
        "        contents = file.read()\n",
        "        print(\"File contents:\")\n",
        "        print(contents)\n"
      ],
      "metadata": {
        "colab": {
          "base_uri": "https://localhost:8080/",
          "height": 280
        },
        "id": "iPGj05TFoPEW",
        "outputId": "32aef61d-0319-41e4-fadb-79ecd9b2d253"
      },
      "execution_count": 30,
      "outputs": [
        {
          "output_type": "error",
          "ename": "FileNotFoundError",
          "evalue": "[Errno 2] No such file or directory: 'file.txt'",
          "traceback": [
            "\u001b[0;31m---------------------------------------------------------------------------\u001b[0m",
            "\u001b[0;31mFileNotFoundError\u001b[0m                         Traceback (most recent call last)",
            "\u001b[0;32m<ipython-input-30-e173f265271a>\u001b[0m in \u001b[0;36m<cell line: 0>\u001b[0;34m()\u001b[0m\n\u001b[1;32m      9\u001b[0m \u001b[0mfile_path\u001b[0m \u001b[0;34m=\u001b[0m \u001b[0;34m'file.txt'\u001b[0m  \u001b[0;31m# Replace with your file path\u001b[0m\u001b[0;34m\u001b[0m\u001b[0;34m\u001b[0m\u001b[0m\n\u001b[1;32m     10\u001b[0m \u001b[0;34m\u001b[0m\u001b[0m\n\u001b[0;32m---> 11\u001b[0;31m \u001b[0;32mif\u001b[0m \u001b[0mis_file_empty\u001b[0m\u001b[0;34m(\u001b[0m\u001b[0mfile_path\u001b[0m\u001b[0;34m)\u001b[0m\u001b[0;34m:\u001b[0m\u001b[0;34m\u001b[0m\u001b[0;34m\u001b[0m\u001b[0m\n\u001b[0m\u001b[1;32m     12\u001b[0m     \u001b[0mprint\u001b[0m\u001b[0;34m(\u001b[0m\u001b[0;34m\"The file is empty.\"\u001b[0m\u001b[0;34m)\u001b[0m\u001b[0;34m\u001b[0m\u001b[0;34m\u001b[0m\u001b[0m\n\u001b[1;32m     13\u001b[0m \u001b[0;32melse\u001b[0m\u001b[0;34m:\u001b[0m\u001b[0;34m\u001b[0m\u001b[0;34m\u001b[0m\u001b[0m\n",
            "\u001b[0;32m<ipython-input-30-e173f265271a>\u001b[0m in \u001b[0;36mis_file_empty\u001b[0;34m(file_path)\u001b[0m\n\u001b[1;32m      4\u001b[0m \u001b[0;34m\u001b[0m\u001b[0m\n\u001b[1;32m      5\u001b[0m \u001b[0;32mdef\u001b[0m \u001b[0mis_file_empty\u001b[0m\u001b[0;34m(\u001b[0m\u001b[0mfile_path\u001b[0m\u001b[0;34m)\u001b[0m\u001b[0;34m:\u001b[0m\u001b[0;34m\u001b[0m\u001b[0;34m\u001b[0m\u001b[0m\n\u001b[0;32m----> 6\u001b[0;31m     \u001b[0;32mreturn\u001b[0m \u001b[0mos\u001b[0m\u001b[0;34m.\u001b[0m\u001b[0mpath\u001b[0m\u001b[0;34m.\u001b[0m\u001b[0mgetsize\u001b[0m\u001b[0;34m(\u001b[0m\u001b[0mfile_path\u001b[0m\u001b[0;34m)\u001b[0m \u001b[0;34m==\u001b[0m \u001b[0;36m0\u001b[0m\u001b[0;34m\u001b[0m\u001b[0;34m\u001b[0m\u001b[0m\n\u001b[0m\u001b[1;32m      7\u001b[0m \u001b[0;34m\u001b[0m\u001b[0m\n\u001b[1;32m      8\u001b[0m \u001b[0;31m# Example usage\u001b[0m\u001b[0;34m\u001b[0m\u001b[0;34m\u001b[0m\u001b[0m\n",
            "\u001b[0;32m/usr/lib/python3.11/genericpath.py\u001b[0m in \u001b[0;36mgetsize\u001b[0;34m(filename)\u001b[0m\n",
            "\u001b[0;31mFileNotFoundError\u001b[0m: [Errno 2] No such file or directory: 'file.txt'"
          ]
        }
      ]
    },
    {
      "cell_type": "code",
      "source": [
        "# Write a Python program that writes to a log file when an error occurs during file handling.\n",
        "\n",
        "import logging\n",
        "\n",
        "logging.basicConfig(filename='error_log.txt', level=logging.ERROR, format='%(asctime)s - %(levelname)s - %(message)s')\n",
        "\n",
        "def read_file(file_path):\n",
        "    try:\n",
        "        with open(file_path, 'r') as file:\n",
        "            contents = file.read()\n",
        "            print(contents)\n",
        "    except FileNotFoundError as e:\n",
        "        logging.error(f\"File not found: {file_path}. Error: {e}\")\n",
        "        print(\"Error: The file was not found.\")\n",
        "    except IOError as e:\n",
        "        logging.error(f\"IOError while reading the file: {file_path}. Error: {e}\")\n",
        "        print(\"Error: An I/O error occurred.\")\n",
        "    except Exception as e:\n",
        "        logging.error(f\"An unexpected error occurred while handling the file: {file_path}. Error: {e}\")\n",
        "        print(\"Error: An unexpected error occurred.\")\n",
        "\n",
        "file_path = 'file.txt'\n",
        "read_file(file_path)\n"
      ],
      "metadata": {
        "colab": {
          "base_uri": "https://localhost:8080/"
        },
        "id": "FZ1STfJWocqZ",
        "outputId": "af36794e-3833-4ff8-b6eb-7a222b84cdc5"
      },
      "execution_count": 31,
      "outputs": [
        {
          "output_type": "stream",
          "name": "stderr",
          "text": [
            "ERROR:root:File not found: file.txt. Error: [Errno 2] No such file or directory: 'file.txt'\n"
          ]
        },
        {
          "output_type": "stream",
          "name": "stdout",
          "text": [
            "Error: The file was not found.\n"
          ]
        }
      ]
    }
  ]
}